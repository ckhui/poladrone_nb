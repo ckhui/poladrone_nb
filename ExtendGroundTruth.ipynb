{
 "cells": [
  {
   "cell_type": "code",
   "execution_count": 59,
   "metadata": {
    "ExecuteTime": {
     "end_time": "2020-06-25T09:39:09.970784Z",
     "start_time": "2020-06-25T09:39:09.959574Z"
    }
   },
   "outputs": [],
   "source": [
    "## Read Folder\n",
    "## Loop annotation\n",
    "## Read XML\n",
    "## Extend BB\n",
    "## Output XML"
   ]
  },
  {
   "cell_type": "code",
   "execution_count": 60,
   "metadata": {
    "ExecuteTime": {
     "end_time": "2020-06-25T09:39:14.012871Z",
     "start_time": "2020-06-25T09:39:14.004277Z"
    }
   },
   "outputs": [],
   "source": [
    "import glob\n",
    "import os"
   ]
  },
  {
   "cell_type": "code",
   "execution_count": 61,
   "metadata": {
    "ExecuteTime": {
     "end_time": "2020-06-25T09:39:14.436923Z",
     "start_time": "2020-06-25T09:39:14.421979Z"
    },
    "code_folding": []
   },
   "outputs": [],
   "source": [
    "from voc_io import *\n",
    "## Read XML\n",
    "def read_xml(path):\n",
    "    return PascalVocReader(path)\n",
    "\n",
    "def write_xml(outPath, info, bbs):\n",
    "    '''\n",
    "    outPath: output filepath\n",
    "    info: PascalVocReader(path).getInfo()\n",
    "    bbs: bounding boxes in foramt: ['name',xmin,xmax,ymin,ymax]\n",
    "    '''\n",
    "    writter = PascalVocWriter(info[0],info[1], (info[3],info[4], 3), localImgPath=info[2])\n",
    "    for bb in bbs:\n",
    "        writter.addBndBox(bb[1],bb[2],bb[3],bb[4], bb[0], difficult=0)\n",
    "    writter.save(outPath)"
   ]
  },
  {
   "cell_type": "code",
   "execution_count": 62,
   "metadata": {
    "ExecuteTime": {
     "end_time": "2020-06-25T09:39:15.675811Z",
     "start_time": "2020-06-25T09:39:15.644381Z"
    }
   },
   "outputs": [],
   "source": [
    "def xml_processing(path, outPath, padding = None, ratio = None, default_voc_folder = \"Sample_Anno_Data\"):\n",
    "    '''\n",
    "    value: fix number of pixel\n",
    "    ratio: resize the bouding box\n",
    "    '''\n",
    "    voc = read_xml(path)\n",
    "    boxes = voc.getShapes()\n",
    "    info = voc.getInfo()\n",
    "    w,h = info[3],info[4]\n",
    "    \n",
    "    if info[0] is None:\n",
    "        info[0] = default_voc_folder\n",
    "    writter = PascalVocWriter(info[0],info[1], (w,h, 3), localImgPath=info[2])\n",
    "    \n",
    "    for box in boxes:\n",
    "        xmin = int(box[1][0][0])\n",
    "        xmax = int(box[1][1][0])\n",
    "        ymin = int(box[1][0][1])\n",
    "        ymax = int(box[1][2][1])\n",
    "        \n",
    "        xmin, xmax, ymin, ymax = applyPadding(xmin, xmax, ymin, ymax,padding, ratio, clipX=int(w), clipY=int(h))\n",
    "        \n",
    "        writter.addBndBox(xmin,ymin,xmax,ymax, box[0], 0)\n",
    "        \n",
    "    writter.save(outPath)\n",
    "    \n",
    "def applyPadding(xmin,xmax,ymin,ymax, padding=None, ratio=None, clipX=1000,clipY=1000):\n",
    "    if ratio:\n",
    "        x_diff = (xmax - xmin) * (ratio-1)\n",
    "        y_diff = (ymax - ymin) * (ratio-1)\n",
    "        xmin -= x_diff\n",
    "        xmax += x_diff\n",
    "        ymin -= y_diff\n",
    "        ymax += y_diff\n",
    "\n",
    "    if padding:\n",
    "        xmin -= padding\n",
    "        xmax += padding\n",
    "        ymin -= padding\n",
    "        ymax += padding\n",
    "\n",
    "    xmin = int(max(0, xmin))\n",
    "    xmax = int(min(int(clipX), xmax))\n",
    "    ymin = int(max(0, ymin))\n",
    "    ymax = int(min(int(clipY), ymax))\n",
    "    \n",
    "    return xmin,xmax,ymin,ymax\n"
   ]
  },
  {
   "cell_type": "code",
   "execution_count": 64,
   "metadata": {
    "ExecuteTime": {
     "end_time": "2020-06-25T09:41:04.961708Z",
     "start_time": "2020-06-25T09:41:04.956894Z"
    }
   },
   "outputs": [],
   "source": [
    "# Sample_Anno_Data_NPT, 15, 1.2\n",
    "# Sample_Anno_Data_BYT  30, None\n",
    "# Sample_Anno_Data_MTL, 10, 1.1\n"
   ]
  },
  {
   "cell_type": "code",
   "execution_count": 70,
   "metadata": {
    "ExecuteTime": {
     "end_time": "2020-06-25T09:45:24.980092Z",
     "start_time": "2020-06-25T09:45:24.809117Z"
    }
   },
   "outputs": [],
   "source": [
    "folder = \"/Users/ckh/OneDrive - Default Directory/Hui_Wan/Sample_Anno_Data_BYT/annot\"\n",
    "outputFolder = \"/Users/ckh/OneDrive - Default Directory/Hui_Wan/Sample_Anno_Data_BYT\"\n",
    "\n",
    "for files in os.scandir(folder):\n",
    "    fileName = files.name\n",
    "    xml = folder+\"/\"+ fileName\n",
    "    outPath = outputFolder+\"/\"+fileName\n",
    "\n",
    "#     xml_processing(xml, outPath, None, None)\n",
    "    xml_processing(xml, outPath, 30, None)"
   ]
  },
  {
   "cell_type": "code",
   "execution_count": null,
   "metadata": {},
   "outputs": [],
   "source": []
  }
 ],
 "metadata": {
  "kernelspec": {
   "display_name": "Python 3",
   "language": "python",
   "name": "python3"
  },
  "language_info": {
   "codemirror_mode": {
    "name": "ipython",
    "version": 3
   },
   "file_extension": ".py",
   "mimetype": "text/x-python",
   "name": "python",
   "nbconvert_exporter": "python",
   "pygments_lexer": "ipython3",
   "version": "3.6.8"
  },
  "toc": {
   "base_numbering": 1,
   "nav_menu": {},
   "number_sections": true,
   "sideBar": true,
   "skip_h1_title": false,
   "title_cell": "Table of Contents",
   "title_sidebar": "Contents",
   "toc_cell": false,
   "toc_position": {},
   "toc_section_display": true,
   "toc_window_display": false
  },
  "varInspector": {
   "cols": {
    "lenName": 16,
    "lenType": 16,
    "lenVar": 40
   },
   "kernels_config": {
    "python": {
     "delete_cmd_postfix": "",
     "delete_cmd_prefix": "del ",
     "library": "var_list.py",
     "varRefreshCmd": "print(var_dic_list())"
    },
    "r": {
     "delete_cmd_postfix": ") ",
     "delete_cmd_prefix": "rm(",
     "library": "var_list.r",
     "varRefreshCmd": "cat(var_dic_list()) "
    }
   },
   "types_to_exclude": [
    "module",
    "function",
    "builtin_function_or_method",
    "instance",
    "_Feature"
   ],
   "window_display": false
  }
 },
 "nbformat": 4,
 "nbformat_minor": 2
}
