{
 "cells": [
  {
   "cell_type": "markdown",
   "metadata": {},
   "source": [
    "## Setup and Import"
   ]
  },
  {
   "cell_type": "code",
   "execution_count": null,
   "metadata": {
    "ExecuteTime": {
     "end_time": "2020-08-01T10:22:43.088599Z",
     "start_time": "2020-08-01T10:22:43.042796Z"
    }
   },
   "outputs": [],
   "source": [
    "%load_ext autoreload\n",
    "%autoreload 2"
   ]
  },
  {
   "cell_type": "code",
   "execution_count": null,
   "metadata": {
    "ExecuteTime": {
     "end_time": "2020-08-01T10:22:43.308239Z",
     "start_time": "2020-08-01T10:22:43.258993Z"
    }
   },
   "outputs": [],
   "source": [
    "from matplotlib import pyplot as plt\n",
    "import matplotlib\n",
    "%matplotlib inline\n",
    "matplotlib.rcParams['figure.figsize'] = (15, 20)"
   ]
  },
  {
   "cell_type": "code",
   "execution_count": null,
   "metadata": {
    "ExecuteTime": {
     "end_time": "2020-08-01T10:02:41.981600Z",
     "start_time": "2020-08-01T10:02:40.762861Z"
    }
   },
   "outputs": [],
   "source": [
    "# export\n",
    "import cv2\n",
    "import time\n",
    "import torch"
   ]
  },
  {
   "cell_type": "code",
   "execution_count": null,
   "metadata": {
    "ExecuteTime": {
     "end_time": "2020-08-01T10:02:42.106298Z",
     "start_time": "2020-08-01T10:02:42.070955Z"
    }
   },
   "outputs": [],
   "source": [
    "# export \n",
    "import os, sys\n",
    "base = \"/Users/ckh/Documents/Poladrone/nb\"\n",
    "# base = \"D:/YoloV5_Hui/poladrone_nb\"\n",
    "sys.path.append(base + \"/ref/pytorchYOLOv4\")"
   ]
  },
  {
   "cell_type": "code",
   "execution_count": null,
   "metadata": {
    "ExecuteTime": {
     "end_time": "2020-08-01T10:02:43.046072Z",
     "start_time": "2020-08-01T10:02:42.223873Z"
    }
   },
   "outputs": [],
   "source": [
    "# export \n",
    "from exp.nb_TrainingRunnner import *\n",
    "from exp.nb_LoggingModule import custom_init_logger\n",
    "from config.config import Cfg\n",
    "\n",
    "from ref.pytorchYOLOv4.tool.utils import nms_cpu, bbox_iou"
   ]
  },
  {
   "cell_type": "markdown",
   "metadata": {
    "heading_collapsed": true
   },
   "source": [
    "## Evaluation"
   ]
  },
  {
   "cell_type": "markdown",
   "metadata": {
    "heading_collapsed": true,
    "hidden": true
   },
   "source": [
    "### Load Data"
   ]
  },
  {
   "cell_type": "code",
   "execution_count": null,
   "metadata": {
    "ExecuteTime": {
     "end_time": "2020-07-29T04:26:27.972786Z",
     "start_time": "2020-07-29T04:26:27.731437Z"
    },
    "hidden": true
   },
   "outputs": [],
   "source": [
    "# data_list = \"/Users/ckh/OneDrive - Default Directory/Hui_Wan/train_npt.txt\"\n",
    "data_list = \"/Users/ckh/OneDrive - Default Directory/Hui_Wan/npt_test.txt\"\n",
    "# data_list = \"D:/YoloV5_Hui/Dataset/train_npt.txt\"\n",
    "val_dataset = Detection_dataset(data_list, Cfg, val=True, val_keep_size=True)\n"
   ]
  },
  {
   "cell_type": "markdown",
   "metadata": {
    "heading_collapsed": true,
    "hidden": true
   },
   "source": [
    "### Load Model"
   ]
  },
  {
   "cell_type": "code",
   "execution_count": null,
   "metadata": {
    "ExecuteTime": {
     "end_time": "2020-08-01T10:03:48.793918Z",
     "start_time": "2020-08-01T10:03:48.762169Z"
    },
    "code_folding": [
     2
    ],
    "hidden": true
   },
   "outputs": [],
   "source": [
    "# export \n",
    "def load_model(weight_path, n_classes=1):\n",
    "    ## load model\n",
    "    device = torch.device('cuda' if torch.cuda.is_available() else 'cpu')\n",
    "    print(f'Load: {weight_path} | Device: {device}')\n",
    "    \n",
    "    model = Yolov4(None, n_classes=n_classes, inference=True)\n",
    "    model = torch.nn.DataParallel(model)\n",
    "    model.load_state_dict(torch.load(weight_path, map_location=device))\n",
    "    return model\n"
   ]
  },
  {
   "cell_type": "code",
   "execution_count": null,
   "metadata": {
    "ExecuteTime": {
     "end_time": "2020-07-23T00:00:44.745739Z",
     "start_time": "2020-07-23T00:00:42.489905Z"
    },
    "hidden": true
   },
   "outputs": [],
   "source": [
    "model_path = \"./weight/Yolov4_epoch1707.pth\"\n",
    "model = load_model(model_path)"
   ]
  },
  {
   "cell_type": "markdown",
   "metadata": {
    "heading_collapsed": true
   },
   "source": [
    "## Function"
   ]
  },
  {
   "cell_type": "markdown",
   "metadata": {
    "hidden": true
   },
   "source": [
    "### Preprocessing"
   ]
  },
  {
   "cell_type": "code",
   "execution_count": null,
   "metadata": {
    "ExecuteTime": {
     "end_time": "2020-08-01T10:03:51.010027Z",
     "start_time": "2020-08-01T10:03:50.939193Z"
    },
    "code_folding": [],
    "hidden": true
   },
   "outputs": [],
   "source": [
    "# export \n",
    "def preprocess_image(img_raw, targetSize=416):\n",
    "    img = cv2.resize(img_raw, (targetSize,targetSize))\n",
    "    img = cv2.cvtColor(img, cv2.COLOR_BGR2RGB)\n",
    "    img = img.transpose(2, 0, 1)\n",
    "    img = torch.from_numpy(img).div(255.0)\n",
    "    img = img.unsqueeze(0)\n",
    "    return img"
   ]
  },
  {
   "cell_type": "markdown",
   "metadata": {
    "heading_collapsed": true,
    "hidden": true
   },
   "source": [
    "### Inferencing"
   ]
  },
  {
   "cell_type": "code",
   "execution_count": null,
   "metadata": {
    "ExecuteTime": {
     "end_time": "2020-08-01T10:03:51.336871Z",
     "start_time": "2020-08-01T10:03:51.287139Z"
    },
    "hidden": true
   },
   "outputs": [],
   "source": [
    "# export \n",
    "def predict_img(model, img, size):\n",
    "    img = preprocess_image(img, targetSize=size)\n",
    "    out = model(img)\n",
    "    return out"
   ]
  },
  {
   "cell_type": "code",
   "execution_count": null,
   "metadata": {
    "ExecuteTime": {
     "end_time": "2020-08-01T10:03:51.523154Z",
     "start_time": "2020-08-01T10:03:51.481718Z"
    },
    "hidden": true
   },
   "outputs": [],
   "source": [
    "# !mkdir inference\n",
    "\n",
    "def inference_index(index, size, postfix=\"\", show=False, save=False):\n",
    "    img_raw, gt = val_dataset[index]\n",
    "    out = predict_img(model, img_raw, size)\n",
    "    if show:\n",
    "        out_img = visualize_yolo(img_raw, out, gt=gt, targetSize=size, conf_thresh=0.01)\n",
    "    if save:\n",
    "        cv2.imwrite(\"./inference/%d%s.jpg\"%(index, postfix), out_img)\n",
    "    return out"
   ]
  },
  {
   "cell_type": "markdown",
   "metadata": {
    "heading_collapsed": true,
    "hidden": true
   },
   "source": [
    "### Post processing"
   ]
  },
  {
   "cell_type": "code",
   "execution_count": null,
   "metadata": {
    "ExecuteTime": {
     "end_time": "2020-08-01T10:03:52.005765Z",
     "start_time": "2020-08-01T10:03:51.951583Z"
    },
    "code_folding": [],
    "hidden": true
   },
   "outputs": [],
   "source": [
    "# export \n",
    "def post_processing(img, conf_thresh, nms_thresh, output):\n",
    "\n",
    "    # anchors = [12, 16, 19, 36, 40, 28, 36, 75, 76, 55, 72, 146, 142, 110, 192, 243, 459, 401]\n",
    "    # num_anchors = 9\n",
    "    # anchor_masks = [[0, 1, 2], [3, 4, 5], [6, 7, 8]]\n",
    "    # strides = [8, 16, 32]\n",
    "    # anchor_step = len(anchors) // num_anchors\n",
    "\n",
    "#     t1 = time.time()\n",
    "\n",
    "    if type(output).__name__ != 'ndarray':\n",
    "        output = output.cpu().detach().numpy()\n",
    "\n",
    "    # [batch, num, 4]\n",
    "    box_array = output[:, :, :4]\n",
    "\n",
    "    # [batch, num, num_classes]\n",
    "    confs = output[:, :, 4:]\n",
    "\n",
    "    # [batch, num, num_classes] --> [batch, num]\n",
    "    max_conf = np.max(confs, axis=2)\n",
    "    max_id = np.argmax(confs, axis=2)\n",
    "\n",
    "#     t2 = time.time()\n",
    "\n",
    "    bboxes_batch = []\n",
    "    for i in range(box_array.shape[0]):\n",
    "       \n",
    "        argwhere = max_conf[i] > conf_thresh\n",
    "        l_box_array = box_array[i, argwhere, :]\n",
    "        l_max_conf = max_conf[i, argwhere]\n",
    "        l_max_id = max_id[i, argwhere]\n",
    "\n",
    "        keep = nms_cpu(l_box_array, l_max_conf, nms_thresh)\n",
    "        \n",
    "        bboxes = []\n",
    "        if (keep.size > 0):\n",
    "            l_box_array = l_box_array[keep, :]\n",
    "            l_max_conf = l_max_conf[keep]\n",
    "            l_max_id = l_max_id[keep]\n",
    "\n",
    "            for j in range(l_box_array.shape[0]):\n",
    "                bboxes.append([l_box_array[j, 0], l_box_array[j, 1], l_box_array[j, 2], l_box_array[j, 3], l_max_conf[j], l_max_conf[j], l_max_id[j]])\n",
    "        \n",
    "        bboxes_batch.append(bboxes)\n",
    "\n",
    "#     t3 = time.time()\n",
    "\n",
    "#     print('-----------------------------------')\n",
    "#     print('       max and argmax : %f' % (t2 - t1))\n",
    "#     print('                  nms : %f' % (t3 - t2))\n",
    "#     print('Post processing total : %f' % (t3 - t1))\n",
    "#     print('-----------------------------------')\n",
    "    \n",
    "    return bboxes_batch\n"
   ]
  },
  {
   "cell_type": "markdown",
   "metadata": {
    "heading_collapsed": true,
    "hidden": true
   },
   "source": [
    "### Visualize"
   ]
  },
  {
   "cell_type": "code",
   "execution_count": null,
   "metadata": {
    "ExecuteTime": {
     "end_time": "2020-08-01T10:03:53.889814Z",
     "start_time": "2020-08-01T10:03:53.844845Z"
    },
    "code_folding": [
     0
    ],
    "hidden": true,
    "run_control": {
     "marked": true
    }
   },
   "outputs": [],
   "source": [
    "# export\n",
    "from matplotlib import pyplot as plt\n",
    "import matplotlib\n",
    "\n",
    "def visualize_yolo(img_raw, yolo_out, conf_thresh= 0.5, gt=None, targetSize=1000):\n",
    "    out = yolo_out\n",
    "    img = img_raw.copy()\n",
    "    \n",
    "    border = 2\n",
    "    font_size = 1.2\n",
    "    img = cv2.resize(img, (targetSize,targetSize))\n",
    "        \n",
    "    if not out.size == 0:\n",
    "        out_box = out[out[:,:,4] > conf_thresh]\n",
    "        bboxes = out_box[:,0:4] * targetSize\n",
    "        conf = out_box[:,4]\n",
    "        x,y,w,h = bboxes[:,0], bboxes[:,1], bboxes[:,2]/2, bboxes[:,3]/2\n",
    "\n",
    "        x1, x2, y1, y2 = x-w, x+w, y-h, y+h\n",
    "\n",
    "        for b in zip(x1,y1,x2,y2, conf):\n",
    "            c = b[4]\n",
    "            b = list(map(int,b))\n",
    "            cv2.rectangle(img, (b[0],b[1]), (b[2],b[3]), (0,0,255), border)\n",
    "            text = \"NPT %.1f\"%(c*100) ##self.id_names[b[4]]\n",
    "            cv2.putText(img, text, (b[0],b[1]), cv2.FONT_HERSHEY_PLAIN, font_size, (255,0,0), border)\n",
    "        \n",
    "    if not gt is None:\n",
    "        gt_box = gt[:,:4] * (targetSize / img_raw.shape[0])\n",
    "        for g in gt_box:\n",
    "            b = list(map(int,g))\n",
    "            cv2.rectangle(img, (b[0],b[1]), (b[2],b[3]), (0,255,255), border)\n",
    "            text = \"GT\" ##self.id_names[b[4]]\n",
    "            cv2.putText(img, text, (b[2],b[1]), cv2.FONT_HERSHEY_PLAIN, font_size, (0,255,255), border)\n",
    "\n",
    "    plt.imshow(img)\n",
    "    \n",
    "    return img"
   ]
  },
  {
   "cell_type": "markdown",
   "metadata": {
    "hidden": true
   },
   "source": [
    "### Score"
   ]
  },
  {
   "cell_type": "code",
   "execution_count": null,
   "metadata": {
    "ExecuteTime": {
     "end_time": "2020-08-01T10:03:57.341717Z",
     "start_time": "2020-08-01T10:03:57.303967Z"
    },
    "code_folding": [],
    "hidden": true
   },
   "outputs": [],
   "source": [
    "# export \n",
    "def bbox_iogt(box1, box2, x1y1x2y2=True):\n",
    "    '''\n",
    "    box1: GT\n",
    "    '''\n",
    "    \n",
    "    # print('iou box1:', box1)\n",
    "    # print('iou box2:', box2)\n",
    "\n",
    "    if x1y1x2y2:\n",
    "        mx = min(box1[0], box2[0])\n",
    "        Mx = max(box1[2], box2[2])\n",
    "        my = min(box1[1], box2[1])\n",
    "        My = max(box1[3], box2[3])\n",
    "        w1 = box1[2] - box1[0]\n",
    "        h1 = box1[3] - box1[1]\n",
    "        w2 = box2[2] - box2[0]\n",
    "        h2 = box2[3] - box2[1]\n",
    "    else:\n",
    "        w1 = box1[2]\n",
    "        h1 = box1[3]\n",
    "        w2 = box2[2]\n",
    "        h2 = box2[3]\n",
    "\n",
    "        mx = min(box1[0], box2[0])\n",
    "        Mx = max(box1[0] + w1, box2[0] + w2)\n",
    "        my = min(box1[1], box2[1])\n",
    "        My = max(box1[1] + h1, box2[1] + h2)\n",
    "    uw = Mx - mx\n",
    "    uh = My - my\n",
    "    cw = w1 + w2 - uw\n",
    "    ch = h1 + h2 - uh\n",
    "    carea = 0\n",
    "    if cw <= 0 or ch <= 0:\n",
    "        return 0.0\n",
    "\n",
    "    area1 = w1 * h1\n",
    "    area2 = w2 * h2\n",
    "    carea = cw * ch\n",
    "#     uarea = area1 + area2 - carea\n",
    "    uarea = area1 \n",
    "    return carea / uarea\n"
   ]
  },
  {
   "cell_type": "code",
   "execution_count": null,
   "metadata": {
    "ExecuteTime": {
     "end_time": "2020-08-01T10:03:57.554558Z",
     "start_time": "2020-08-01T10:03:57.519614Z"
    },
    "code_folding": [],
    "hidden": true
   },
   "outputs": [],
   "source": [
    "# export \n",
    "def score(gt, nms):\n",
    "    if nms.size == 0:\n",
    "        return 0, len(gt)\n",
    "        \n",
    "    box_gt = gt/1000\n",
    "\n",
    "    x1 = nms[:,:,0] - nms[:,:,2]\n",
    "    y1 = nms[:,:,1] - nms[:,:,3]\n",
    "    x2 = nms[:,:,0] + nms[:,:,2]\n",
    "    y2 = nms[:,:,1] + nms[:,:,3]\n",
    "    box_predict = np.concatenate([x1,y1,x2,y2], axis=0).T\n",
    "\n",
    "    iogt = [[bbox_iogt(g, p) for g in box_gt] for p in box_predict]\n",
    "    iogt = np.max(iogt, axis=0)\n",
    "\n",
    "    total = len(iogt)\n",
    "    score = sum(iogt > 0.9)\n",
    "    \n",
    "    return score, total"
   ]
  },
  {
   "cell_type": "code",
   "execution_count": null,
   "metadata": {
    "ExecuteTime": {
     "end_time": "2020-08-01T10:03:58.268388Z",
     "start_time": "2020-08-01T10:03:58.222179Z"
    },
    "hidden": true
   },
   "outputs": [],
   "source": [
    "# export \n",
    "def recall(gt, nms):\n",
    "    if nms.size == 0:\n",
    "        if len(gt) == 0:\n",
    "            return 1, 1\n",
    "        return 0, 1\n",
    "    \n",
    "    box_gt = gt/1000\n",
    "    x1 = nms[:,:,0] - nms[:,:,2]\n",
    "    y1 = nms[:,:,1] - nms[:,:,3]\n",
    "    x2 = nms[:,:,0] + nms[:,:,2]\n",
    "    y2 = nms[:,:,1] + nms[:,:,3]\n",
    "    box_predict = np.concatenate([x1,y1,x2,y2], axis=0).T\n",
    "    \n",
    "    iogt = [[bbox_iogt(g, p) for g in box_gt] for p in box_predict]\n",
    "    iogt = np.max(iogt, axis=1)\n",
    "\n",
    "    total = len(iogt)\n",
    "    score = sum(iogt > 0.9)\n",
    "    \n",
    "    return score, total\n",
    "    "
   ]
  },
  {
   "cell_type": "markdown",
   "metadata": {
    "heading_collapsed": true
   },
   "source": [
    "## Setup Run all Above"
   ]
  },
  {
   "cell_type": "markdown",
   "metadata": {},
   "source": [
    "## Predict - Experiment"
   ]
  },
  {
   "cell_type": "markdown",
   "metadata": {},
   "source": [
    "#### Predict Flow"
   ]
  },
  {
   "cell_type": "markdown",
   "metadata": {},
   "source": [
    "#### Comparing  input Size"
   ]
  },
  {
   "cell_type": "code",
   "execution_count": null,
   "metadata": {
    "ExecuteTime": {
     "end_time": "2020-07-15T13:52:15.303780Z",
     "start_time": "2020-07-15T13:48:29.615913Z"
    }
   },
   "outputs": [],
   "source": [
    "## Try with different size\n",
    "index = 180\n",
    "for s in range(0,300,16):\n",
    "    size = 608+s\n",
    "    inference_index(index,size=size, postfix=\"_%d\"%(size))"
   ]
  },
  {
   "cell_type": "code",
   "execution_count": null,
   "metadata": {
    "ExecuteTime": {
     "end_time": "2020-07-15T11:33:54.604366Z",
     "start_time": "2020-07-15T11:33:54.288403Z"
    }
   },
   "outputs": [],
   "source": [
    "visualize_yolo(img_raw, out, conf_thresh=0.01, gt=gt, targetSize=416)"
   ]
  },
  {
   "cell_type": "markdown",
   "metadata": {},
   "source": [
    "#### Comparing NMS"
   ]
  },
  {
   "cell_type": "code",
   "execution_count": null,
   "metadata": {
    "ExecuteTime": {
     "end_time": "2020-07-22T23:59:00.420735Z",
     "start_time": "2020-07-22T23:59:00.364826Z"
    }
   },
   "outputs": [],
   "source": [
    "## inference\n",
    "index=180\n",
    "out = predict_index(index, 720)  "
   ]
  },
  {
   "cell_type": "code",
   "execution_count": null,
   "metadata": {
    "ExecuteTime": {
     "end_time": "2020-07-16T04:45:19.399712Z",
     "start_time": "2020-07-16T04:45:18.589135Z"
    }
   },
   "outputs": [],
   "source": [
    "## Comparing NMS\n",
    "nms_box = post_processing(None, 0.01,0.5, out)\n",
    "nms = np.array(nms_box)\n",
    "plt.subplot(121)\n",
    "out_img = visualize_yolo(val_dataset[index][0], nms, 0, gt=val_dataset[index][1], targetSize=416)\n",
    "\n",
    "nms_box = post_processing(None, 0.3,0.5, out)\n",
    "nms = np.array(nms_box)\n",
    "plt.subplot(122)\n",
    "out_img = visualize_yolo(val_dataset[index][0], nms, 0, gt=val_dataset[index][1], targetSize=416)"
   ]
  },
  {
   "cell_type": "markdown",
   "metadata": {},
   "source": [
    "#### Recall"
   ]
  },
  {
   "cell_type": "code",
   "execution_count": null,
   "metadata": {
    "ExecuteTime": {
     "end_time": "2020-07-23T00:01:23.672892Z",
     "start_time": "2020-07-23T00:01:20.180274Z"
    }
   },
   "outputs": [],
   "source": [
    "index = 10\n",
    "size = 416\n",
    "img_raw, gt = val_dataset[index]\n",
    "out = predict_img(model, img_raw, size)"
   ]
  },
  {
   "cell_type": "code",
   "execution_count": null,
   "metadata": {
    "ExecuteTime": {
     "end_time": "2020-07-23T00:30:52.825415Z",
     "start_time": "2020-07-23T00:30:52.770823Z"
    }
   },
   "outputs": [],
   "source": [
    "nms_box = post_processing(None, 0.01,0.5, out)\n",
    "nms = np.array(nms_box)\n",
    "p, c = recall(gt, nms)\n",
    "p, c"
   ]
  },
  {
   "cell_type": "code",
   "execution_count": null,
   "metadata": {
    "ExecuteTime": {
     "end_time": "2020-07-23T00:02:33.163489Z",
     "start_time": "2020-07-23T00:02:33.124414Z"
    }
   },
   "outputs": [],
   "source": []
  },
  {
   "cell_type": "markdown",
   "metadata": {
    "heading_collapsed": true
   },
   "source": [
    "## Evaluation Flow - Main"
   ]
  },
  {
   "cell_type": "code",
   "execution_count": null,
   "metadata": {
    "ExecuteTime": {
     "end_time": "2020-08-01T10:04:43.356880Z",
     "start_time": "2020-08-01T10:04:43.320724Z"
    },
    "code_folding": [
     5
    ],
    "hidden": true
   },
   "outputs": [],
   "source": [
    "# export \n",
    "def benchmark_size(size):\n",
    "    \n",
    "    pt = []\n",
    "    count = []\n",
    "    t = []\n",
    "    for index in range(len(val_dataset)):\n",
    "        print(index, end=\" \")\n",
    "        ## inference\n",
    "        img_raw, gt = val_dataset[index]\n",
    "\n",
    "        t1 = time.time()\n",
    "        out = predict_img(model, img_raw, size)\n",
    "        t2 = time.time()\n",
    "        t.append(t2 - t1)\n",
    "\n",
    "        ## NMS\n",
    "        nms_box = post_processing(None, 0.01,0.5, out)\n",
    "        nms = np.array(nms_box)\n",
    "\n",
    "        p, c = score(gt, nms)\n",
    "        pt.append(p)\n",
    "        count.append(c)\n",
    "\n",
    "    inference_time = np.mean(t)\n",
    "    score_pre_img = (np.array(pt) / np.array(count)).mean()\n",
    "    score_all = np.sum(pt) / np.sum(count)\n",
    "\n",
    "    return inference_time, score_pre_img, score_all"
   ]
  },
  {
   "cell_type": "code",
   "execution_count": null,
   "metadata": {
    "ExecuteTime": {
     "end_time": "2020-07-22T23:55:39.156797Z",
     "start_time": "2020-07-22T23:55:39.094375Z"
    },
    "hidden": true
   },
   "outputs": [],
   "source": [
    "data_list = \"/Users/ckh/OneDrive - Default Directory/Hui_Wan/npt_test.txt\"\n",
    "# data_list = \"D:/YoloV5_Hui/Dataset/train_npt.txt\"\n",
    "val_dataset = Detection_dataset(data_list, Cfg, val=True, val_keep_size=True)"
   ]
  },
  {
   "cell_type": "code",
   "execution_count": null,
   "metadata": {
    "hidden": true
   },
   "outputs": [],
   "source": []
  },
  {
   "cell_type": "code",
   "execution_count": null,
   "metadata": {
    "ExecuteTime": {
     "end_time": "2020-07-22T23:55:39.406531Z",
     "start_time": "2020-07-22T23:55:39.356876Z"
    },
    "hidden": true
   },
   "outputs": [],
   "source": [
    "model_path = \"./weight/Yolov4_epoch1707.pth\"\n",
    "model = load_model(model_path)"
   ]
  },
  {
   "cell_type": "code",
   "execution_count": null,
   "metadata": {
    "ExecuteTime": {
     "end_time": "2020-07-16T09:50:04.984772Z",
     "start_time": "2020-07-16T09:49:52.468564Z"
    },
    "hidden": true
   },
   "outputs": [],
   "source": [
    "logging = custom_init_logger(\"score\")\n",
    "logging_plot = custom_init_logger(\"plot\")\n",
    "\n",
    "for size in range(320,900,32):\n",
    "    logging.info(f\"Size : {size}\")\n",
    "    time_taken, score_img, score_all = benchmark_size(size)\n",
    "    logging.info(f\"\"\"\n",
    "                 Time : {time_taken} / image\n",
    "                 Score per image: {score_img}\n",
    "                 Score total : {score_all}\n",
    "                 \"\"\")\n",
    "    logging_plot.info(f\"{size},{time_taken},{score_img},{score_all}\")"
   ]
  },
  {
   "cell_type": "markdown",
   "metadata": {
    "heading_collapsed": true
   },
   "source": [
    "## Graph Plot"
   ]
  },
  {
   "cell_type": "markdown",
   "metadata": {
    "heading_collapsed": true,
    "hidden": true
   },
   "source": [
    "### Size"
   ]
  },
  {
   "cell_type": "code",
   "execution_count": null,
   "metadata": {
    "ExecuteTime": {
     "end_time": "2020-08-01T10:04:50.681231Z",
     "start_time": "2020-08-01T10:04:50.320688Z"
    },
    "hidden": true
   },
   "outputs": [],
   "source": [
    "## Read txt\n",
    "data_txt = \"./result/Train1_size.txt\"\n",
    "\n",
    "def plot_size(txt):\n",
    "    with open(txt, 'r') as f:\n",
    "        lines = f.readlines()\n",
    "        data = [l.rstrip().split(',') for l in lines]\n",
    "        data = np.array(data, dtype=float)\n",
    "\n",
    "    ## plot\n",
    "    plt.subplot(121)\n",
    "    plt.title(\"Time / Size\")\n",
    "    plt.plot(data[:,0], data[:,1], marker=\"o\")\n",
    "\n",
    "    plt.subplot(122)\n",
    "    plt.title(\"Score / Size\")\n",
    "    plt.plot(data[:,0], data[:,2], marker=\"o\")\n",
    "    plt.plot(data[:,0], data[:,3], marker=\"o\")\n",
    "    \n",
    "plot_size(data_txt)"
   ]
  },
  {
   "cell_type": "code",
   "execution_count": null,
   "metadata": {
    "ExecuteTime": {
     "end_time": "2020-08-01T10:04:55.040775Z",
     "start_time": "2020-08-01T10:04:54.712458Z"
    },
    "hidden": true
   },
   "outputs": [],
   "source": [
    "data_txt = \"./result/Train2_size.txt\"\n",
    "plot_size(data_txt)"
   ]
  },
  {
   "cell_type": "code",
   "execution_count": null,
   "metadata": {
    "ExecuteTime": {
     "end_time": "2020-08-01T10:04:58.120653Z",
     "start_time": "2020-08-01T10:04:57.792884Z"
    },
    "hidden": true
   },
   "outputs": [],
   "source": [
    "data_txt = \"./result/Train2_size_2.txt\"\n",
    "plot_size(data_txt)"
   ]
  },
  {
   "cell_type": "markdown",
   "metadata": {
    "hidden": true
   },
   "source": [
    "### Threshold"
   ]
  },
  {
   "cell_type": "code",
   "execution_count": null,
   "metadata": {
    "ExecuteTime": {
     "end_time": "2020-08-01T15:55:01.832035Z",
     "start_time": "2020-08-01T15:55:01.716343Z"
    },
    "code_folding": [],
    "hidden": true
   },
   "outputs": [],
   "source": [
    "def visualize_thesh_data(txt, index=None):\n",
    "    with open(data_txt, 'r') as f:\n",
    "        lines = f.readlines()\n",
    "        data = [l.rstrip().split(',') for l in lines]\n",
    "        for d in data:\n",
    "            d[2] = d[2].replace('[','').replace(']','').split(' ')\n",
    "            d[3] = d[3].replace('[','').replace(']','').split(' ')\n",
    "\n",
    "    size_data = np.array([d[0] for d in data], dtype=int)\n",
    "    time_data = np.array([d[1] for d in data], dtype=float)\n",
    "    score1_data = np.array([np.array(d[2]) for d in data], dtype=float)\n",
    "    score2_data = np.array([d[3] for d in data], dtype=float)\n",
    "    \n",
    "    plot_thresh_score(size_data, score1_data, score2_data, index)\n",
    "    \n",
    "## plot\n",
    "def plot_thresh_score(size_data, score1_data, score2_data, index=None):\n",
    "\n",
    "    plt.subplot(221)\n",
    "    plt.title(\"ALL : Score / Conf Threshold\")\n",
    "    plt.xlabel(\"Threshold\")\n",
    "    plt.ylabel(\"Score\")\n",
    "    plt.plot(np.linspace(0.1,0.9,9), score1_data.T, marker=\"o\")\n",
    "    plt.legend(size_data)\n",
    "\n",
    "    plt.title(\"ALL : Total Score / Conf Threshold\")\n",
    "    plt.xlabel(\"Threshold\")\n",
    "    plt.ylabel(\"Score\")\n",
    "    plt.subplot(222)\n",
    "    plt.plot(np.linspace(0.1,0.9,9), score2_data.T, marker=\"x\")\n",
    "    plt.legend(size_data)\n",
    "\n",
    "    indexes = [3,12,13,14,15,16,17]\n",
    "    if index:\n",
    "        indexes = index\n",
    "\n",
    "    plt.subplot(223)\n",
    "    plt.title(\"Selected : Score / Conf Threshold\")\n",
    "    plt.xlabel(\"Threshold\")\n",
    "    plt.ylabel(\"Score\")\n",
    "    plt.plot(np.linspace(0.1,0.9,9), score1_data[indexes].T, marker=\"o\")\n",
    "    plt.legend(size_data[indexes])\n",
    "\n",
    "    plt.subplot(224)\n",
    "    plt.title(\"Selected : Total Score / Conf Threshold\")\n",
    "    plt.xlabel(\"Threshold\")\n",
    "    plt.ylabel(\"Score\")\n",
    "    plt.plot(np.linspace(0.1,0.9,9), score2_data[indexes].T, marker=\"x\")\n",
    "    plt.legend(size_data[indexes])\n",
    "\n",
    "    # indexes = [12,13,14,15]\n",
    "    # plt.subplot(223)\n",
    "    # plt.title(\"Selected : Score / Threshold\")\n",
    "    # plt.xlabel(\"Threshold\")\n",
    "    # plt.ylabel(\"Score\")\n",
    "    # plt.plot(np.linspace(0.1,0.9,9), score1_data[indexes].T, marker=\"o\")\n",
    "    # plt.legend(size_data[indexes])\n",
    "    \n",
    "    return"
   ]
  },
  {
   "cell_type": "code",
   "execution_count": null,
   "metadata": {
    "ExecuteTime": {
     "end_time": "2020-08-01T10:22:53.607463Z",
     "start_time": "2020-08-01T10:22:52.119337Z"
    },
    "hidden": true
   },
   "outputs": [],
   "source": [
    "data_txt = \"./result/Train1_treshold.txt\"\n",
    "visualize_thesh_data(data_txt)"
   ]
  },
  {
   "cell_type": "code",
   "execution_count": null,
   "metadata": {
    "ExecuteTime": {
     "end_time": "2020-08-01T15:58:07.943109Z",
     "start_time": "2020-08-01T15:58:06.404048Z"
    },
    "hidden": true
   },
   "outputs": [],
   "source": [
    "data_txt = \"./result/Train2_threshold.txt\"\n",
    "visualize_thesh_data(data_txt, index=[3,9,10,11,12])"
   ]
  },
  {
   "cell_type": "markdown",
   "metadata": {
    "hidden": true
   },
   "source": [
    "### Plot Model_Size"
   ]
  },
  {
   "cell_type": "code",
   "execution_count": null,
   "metadata": {
    "ExecuteTime": {
     "end_time": "2020-08-01T17:48:43.207433Z",
     "start_time": "2020-08-01T17:48:43.101989Z"
    },
    "hidden": true
   },
   "outputs": [],
   "source": [
    "## model selection\n",
    "data_txt = \"./result/Train2_model_size_2.txt\"\n",
    "\n",
    "with open(data_txt, 'r') as f:\n",
    "    lines = f.readlines()\n",
    "    data = [l.rstrip().split(',') for l in lines]\n",
    "    \n",
    "model_data = {}\n",
    "for d in data:\n",
    "    if \"Model\" in d[0]:\n",
    "        key = d[0].split(\" : \")[1]\n",
    "        model_data[key] = []\n",
    "    else:\n",
    "        d[2] = d[2].replace('[','').replace(']','').split(' ')\n",
    "        d[3] = d[3].replace('[','').replace(']','').split(' ')\n",
    "        model_data[key].append(d)\n",
    "        \n",
    "all_data = []\n",
    "for k in list(model_data.keys()):\n",
    "    for i in range(len(model_data[k])):\n",
    "        model_data[k][i][0] = k + \"-\" + model_data[k][i][0]\n",
    "        all_data.append(model_data[k][i])\n",
    "                \n",
    "data = all_data\n",
    "\n",
    "size_data = np.array([d[0] for d in data], dtype=str)\n",
    "time_data = np.array([d[1] for d in data], dtype=float)\n",
    "score1_data = np.array([np.array(d[2]) for d in data], dtype=float)\n",
    "score2_data = np.array([d[3] for d in data], dtype=float)\n",
    "    \n",
    "## plot"
   ]
  },
  {
   "cell_type": "code",
   "execution_count": null,
   "metadata": {
    "ExecuteTime": {
     "end_time": "2020-08-01T14:17:20.697565Z",
     "start_time": "2020-08-01T14:17:19.986380Z"
    },
    "hidden": true
   },
   "outputs": [],
   "source": [
    "indexes = np.where(['550-' in x for x in size_data])\n",
    "\n",
    "plt.subplot(221)\n",
    "plt.title(\"Selected : Score / Conf Threshold\")\n",
    "plt.xlabel(\"Threshold\")\n",
    "plt.ylabel(\"Score\")\n",
    "plt.plot(np.linspace(0.1,0.9,9), score1_data[indexes].T, marker=\"o\")\n",
    "plt.legend(size_data[indexes])\n",
    "\n",
    "plt.subplot(222)\n",
    "plt.title(\"Selected : Total Score / Conf Threshold\")\n",
    "plt.xlabel(\"Threshold\")\n",
    "plt.ylabel(\"Score\")\n",
    "plt.plot(np.linspace(0.1,0.9,9), score2_data[indexes].T, marker=\"x\")\n",
    "plt.legend(size_data[indexes])\n"
   ]
  },
  {
   "cell_type": "code",
   "execution_count": null,
   "metadata": {
    "ExecuteTime": {
     "end_time": "2020-08-01T17:49:48.130178Z",
     "start_time": "2020-08-01T17:49:46.164205Z"
    },
    "hidden": true
   },
   "outputs": [],
   "source": [
    "indexes = np.where(['-416' in x for x in size_data])\n",
    "\n",
    "plt.subplot(221)\n",
    "plt.title(\"Selected : Score / Conf Threshold\")\n",
    "plt.xlabel(\"Threshold\")\n",
    "plt.ylabel(\"Score\")\n",
    "plt.plot(np.linspace(0.1,0.9,9), score1_data[indexes].T, marker=\"o\")\n",
    "plt.legend(size_data[indexes])\n",
    "\n",
    "plt.subplot(222)\n",
    "plt.title(\"Selected : Total Score / Conf Threshold\")\n",
    "plt.xlabel(\"Threshold\")\n",
    "plt.ylabel(\"Score\")\n",
    "plt.plot(np.linspace(0.1,0.9,9), score2_data[indexes].T, marker=\"x\")\n",
    "plt.legend(size_data[indexes])\n",
    "\n",
    "indexes = np.where(['-608' in x for x in size_data])\n",
    "plt.subplot(223)\n",
    "plt.title(\"Selected : Score / Conf Threshold\")\n",
    "plt.xlabel(\"Threshold\")\n",
    "plt.ylabel(\"Score\")\n",
    "plt.plot(np.linspace(0.1,0.9,9), score1_data[indexes].T, marker=\"o\")\n",
    "plt.legend(size_data[indexes])\n",
    "\n",
    "plt.subplot(224)\n",
    "plt.title(\"Selected : Total Score / Conf Threshold\")\n",
    "plt.xlabel(\"Threshold\")\n",
    "plt.ylabel(\"Score\")\n",
    "plt.plot(np.linspace(0.1,0.9,9), score2_data[indexes].T, marker=\"x\")\n",
    "plt.legend(size_data[indexes])"
   ]
  },
  {
   "cell_type": "code",
   "execution_count": null,
   "metadata": {
    "ExecuteTime": {
     "end_time": "2020-08-01T17:50:22.957660Z",
     "start_time": "2020-08-01T17:50:21.840759Z"
    },
    "hidden": true
   },
   "outputs": [],
   "source": [
    "\n",
    "indexes = np.where(['-640' in x for x in size_data])\n",
    "plt.subplot(221)\n",
    "plt.title(\"Selected : Score / Conf Threshold\")\n",
    "plt.xlabel(\"Threshold\")\n",
    "plt.ylabel(\"Score\")\n",
    "plt.plot(np.linspace(0.1,0.9,9), score1_data[indexes].T, marker=\"o\")\n",
    "plt.legend(size_data[indexes])\n",
    "\n",
    "plt.subplot(222)\n",
    "plt.title(\"Selected : Total Score / Conf Threshold\")\n",
    "plt.xlabel(\"Threshold\")\n",
    "plt.ylabel(\"Score\")\n",
    "plt.plot(np.linspace(0.1,0.9,9), score2_data[indexes].T, marker=\"x\")\n",
    "plt.legend(size_data[indexes])\n",
    "\n",
    "indexes = np.where(['-672' in x for x in size_data])\n",
    "plt.subplot(223)\n",
    "plt.title(\"Selected : Score / Conf Threshold\")\n",
    "plt.xlabel(\"Threshold\")\n",
    "plt.ylabel(\"Score\")\n",
    "plt.plot(np.linspace(0.1,0.9,9), score1_data[indexes].T, marker=\"o\")\n",
    "plt.legend(size_data[indexes])\n",
    "\n",
    "plt.subplot(224)\n",
    "plt.title(\"Selected : Total Score / Conf Threshold\")\n",
    "plt.xlabel(\"Threshold\")\n",
    "plt.ylabel(\"Score\")\n",
    "plt.plot(np.linspace(0.1,0.9,9), score2_data[indexes].T, marker=\"x\")\n",
    "plt.legend(size_data[indexes])"
   ]
  },
  {
   "cell_type": "markdown",
   "metadata": {
    "hidden": true
   },
   "source": [
    "### Breakdown"
   ]
  },
  {
   "cell_type": "code",
   "execution_count": null,
   "metadata": {
    "ExecuteTime": {
     "end_time": "2020-08-01T18:02:03.938742Z",
     "start_time": "2020-08-01T18:02:03.853354Z"
    },
    "hidden": true
   },
   "outputs": [],
   "source": [
    "def breakdownplot(size='416'):\n",
    "    plt.figure()\n",
    "    fig, ax = plt.subplots(2,3,sharey=\"row\")\n",
    "    query = f\"-{size}\"\n",
    "    \n",
    "    sep = 8\n",
    "    indexes = np.where([query in x for x in size_data])[0][sep*0:sep*1]\n",
    "    indexes1 = np.where([query in x for x in size_data])[0][sep*1:sep*2]\n",
    "#     indexes2 = np.where([query in x for x in size_data])[0][sep*2:sep*3]\n",
    "\n",
    "    for i, e in enumerate([indexes, indexes1]):\n",
    "#         plt.subplot(2,3,1+i)\n",
    "        plt.subplot(ax[0,i])\n",
    "        plt.title(f\"{size} Score / Conf Threshold\")\n",
    "        plt.xlabel(\"Threshold\")\n",
    "        plt.ylabel(\"Score\")\n",
    "        x = np.linspace(0.1,0.9,9)\n",
    "        y = score1_data[e].T\n",
    "        plt.plot(x, y, marker=\"o\")\n",
    "        plt.legend(size_data[e])\n",
    "\n",
    "    for i, e in enumerate([indexes, indexes1]):\n",
    "#         plt.subplot(2,3,4+i)\n",
    "        plt.subplot(ax[1,i])\n",
    "        plt.title(f\"{size} Total Score / Conf Threshold\")\n",
    "        plt.xlabel(\"Threshold\")\n",
    "        plt.ylabel(\"Score\")\n",
    "        x = np.linspace(0.1,0.9,9)\n",
    "        y = score2_data[e].T\n",
    "        plt.plot(x, y, marker=\"o\")\n",
    "        plt.legend(size_data[e])"
   ]
  },
  {
   "cell_type": "code",
   "execution_count": null,
   "metadata": {
    "ExecuteTime": {
     "end_time": "2020-08-01T18:02:13.398417Z",
     "start_time": "2020-08-01T18:02:04.370840Z"
    },
    "hidden": true
   },
   "outputs": [],
   "source": [
    "breakdownplot(416)\n",
    "breakdownplot(608)\n",
    "breakdownplot(640)\n",
    "breakdownplot(672)\n",
    "breakdownplot(704)"
   ]
  },
  {
   "cell_type": "markdown",
   "metadata": {
    "hidden": true
   },
   "source": [
    "### Selected Model"
   ]
  },
  {
   "cell_type": "code",
   "execution_count": null,
   "metadata": {
    "ExecuteTime": {
     "end_time": "2020-08-01T18:04:36.703516Z",
     "start_time": "2020-08-01T18:04:36.614868Z"
    },
    "hidden": true
   },
   "outputs": [],
   "source": [
    "def plot_model_breakdown(models=['1000']):\n",
    "    plt.figure()\n",
    "    fig, ax = plt.subplots(2,len(models),sharey=\"row\")\n",
    "\n",
    "\n",
    "    for i, model in enumerate(models):\n",
    "        query = f\"{model}-\"\n",
    "        indexes = np.where([query in x for x in size_data])\n",
    "\n",
    "        plt.subplot(ax[0,i])\n",
    "        plt.title(f\"{model} Score / Conf Threshold\")\n",
    "        plt.xlabel(\"Threshold\")\n",
    "        plt.ylabel(\"Score\")\n",
    "        x = np.linspace(0.1,0.9,9)\n",
    "        y = score1_data[indexes].T\n",
    "        plt.plot(x, y, marker=\"o\")\n",
    "        plt.legend(size_data[indexes])\n",
    "\n",
    "        \n",
    "        plt.subplot(ax[1,i])\n",
    "        plt.title(f\"{model} Total Score / Conf Threshold\")\n",
    "        plt.xlabel(\"Threshold\")\n",
    "        plt.ylabel(\"Score\")\n",
    "        x = np.linspace(0.1,0.9,9)\n",
    "        y = score2_data[indexes].T\n",
    "        plt.plot(x, y, marker=\"o\")\n",
    "        plt.legend(size_data[indexes])"
   ]
  },
  {
   "cell_type": "code",
   "execution_count": null,
   "metadata": {
    "ExecuteTime": {
     "end_time": "2020-08-01T18:04:40.223842Z",
     "start_time": "2020-08-01T18:04:37.159527Z"
    },
    "hidden": true
   },
   "outputs": [],
   "source": [
    "# plot_model_breakdown(['1000', '1500', '1800', '2700', '3000'])\n",
    "plot_model_breakdown(['300', '350', '550', '650', '800', '850'])"
   ]
  },
  {
   "cell_type": "markdown",
   "metadata": {
    "hidden": true
   },
   "source": [
    "### plot Recall"
   ]
  },
  {
   "cell_type": "code",
   "execution_count": null,
   "metadata": {
    "ExecuteTime": {
     "end_time": "2020-08-01T14:14:10.882510Z",
     "start_time": "2020-08-01T14:14:10.697199Z"
    },
    "hidden": true
   },
   "outputs": [],
   "source": [
    "## model selection\n",
    "data_txt = \"./result/Train1_mode_size_recall.txt\"\n",
    "\n",
    "with open(data_txt, 'r') as f:\n",
    "    lines = f.readlines()\n",
    "    data = [l.rstrip().split(',') for l in lines]\n",
    "    \n",
    "model_data = {}\n",
    "for d in data:\n",
    "    if \"Model\" in d[0]:\n",
    "        key = d[0].split(\" : \")[1]\n",
    "        model_data[key] = []\n",
    "    else:\n",
    "        d[2] = d[2].replace('[','').replace(']','').split(' ')\n",
    "        d[3] = d[3].replace('[','').replace(']','').split(' ')\n",
    "        d[4] = d[4].replace('[','').replace(']','').split(' ')\n",
    "        d[5] = d[5].replace('[','').replace(']','').split(' ')\n",
    "        model_data[key].append(d)\n",
    "        \n",
    "all_data = []\n",
    "for k in list(model_data.keys()):\n",
    "    for i in range(len(model_data[k])):\n",
    "        model_data[k][i][0] = k + \"-\" + model_data[k][i][0]\n",
    "        all_data.append(model_data[k][i])\n",
    "                \n",
    "data = all_data\n",
    "\n",
    "size_data = np.array([d[0] for d in data], dtype=str)\n",
    "time_data = np.array([d[1] for d in data], dtype=float)\n",
    "score1_data = np.array([d[2] for d in data], dtype=float)\n",
    "score2_data = np.array([d[3] for d in data], dtype=float)\n",
    "recall1_data = np.array([d[4] for d in data], dtype=float)\n",
    "recall2_data = np.array([d[5] for d in data], dtype=float)\n",
    "\n",
    "    \n",
    "## plot"
   ]
  },
  {
   "cell_type": "code",
   "execution_count": null,
   "metadata": {
    "ExecuteTime": {
     "end_time": "2020-07-23T04:02:27.137926Z",
     "start_time": "2020-07-23T04:02:27.085960Z"
    },
    "hidden": true
   },
   "outputs": [],
   "source": [
    "## selected Model with Recall Rate\n",
    "\n",
    "# 1 - count ( result. max IOU with GT < threshole ) / total result\n",
    "    "
   ]
  },
  {
   "cell_type": "code",
   "execution_count": null,
   "metadata": {
    "ExecuteTime": {
     "end_time": "2020-08-01T18:05:37.630961Z",
     "start_time": "2020-08-01T18:05:37.559825Z"
    },
    "hidden": true
   },
   "outputs": [],
   "source": [
    "def plot_model_recall(models=['1000']):\n",
    "    plt.figure()\n",
    "    fig, ax = plt.subplots(2,len(models),sharey=\"row\")\n",
    "\n",
    "\n",
    "    for i, model in enumerate(models):\n",
    "        query = f\"{model}-\"\n",
    "        indexes = np.where([query in x for x in size_data])\n",
    "\n",
    "        plt.subplot(ax[0,i])\n",
    "        plt.title(f\"{model} Score / Conf Threshold\")\n",
    "        plt.xlabel(\"Threshold\")\n",
    "        plt.ylabel(\"Score\")\n",
    "        x = np.linspace(0.1,0.9,9)\n",
    "        y = score1_data[indexes].T\n",
    "        l1 = plt.plot(x, y, marker=\"o\")\n",
    "        legend1 = plt.legend(l1, size_data[indexes], loc=1)\n",
    "        plt.gca().add_artist(legend1)\n",
    "        \n",
    "        x = np.linspace(0.1,0.9,9)\n",
    "        y = recall1_data[indexes].T\n",
    "        l2 = plt.plot(x, y, marker=\"x\")\n",
    "        \n",
    "        legend2 = plt.legend(l2, size_data[indexes], loc=4)\n",
    "        plt.gca().add_artist(legend2)\n",
    "        \n",
    "        plt.subplot(ax[1,i])\n",
    "        plt.title(f\"{model} Total Score / Conf Threshold\")\n",
    "        plt.xlabel(\"Threshold\")\n",
    "        plt.ylabel(\"Score\")\n",
    "        x = np.linspace(0.1,0.9,9)\n",
    "        y = score2_data[indexes].T\n",
    "        l3 = plt.plot(x, y, marker=\"o\")\n",
    "        \n",
    "        legend3 = plt.legend(l3, size_data[indexes], loc=1)\n",
    "        plt.gca().add_artist(legend3)\n",
    "        \n",
    "        x = np.linspace(0.1,0.9,9)\n",
    "        y = recall2_data[indexes].T\n",
    "        l4 = plt.plot(x, y, marker=\"x\")\n",
    "        \n",
    "        legend4 = plt.legend(l4, size_data[indexes], loc=4)\n",
    "        plt.gca().add_artist(legend4)"
   ]
  },
  {
   "cell_type": "code",
   "execution_count": null,
   "metadata": {
    "ExecuteTime": {
     "end_time": "2020-08-01T14:14:23.473178Z",
     "start_time": "2020-08-01T14:14:20.918531Z"
    },
    "hidden": true
   },
   "outputs": [],
   "source": [
    "plot_model_recall(['1000', '1500', '1800', '2700', '3000'])"
   ]
  },
  {
   "cell_type": "code",
   "execution_count": null,
   "metadata": {
    "ExecuteTime": {
     "end_time": "2020-08-01T18:05:45.061307Z",
     "start_time": "2020-08-01T18:05:45.017755Z"
    },
    "hidden": true
   },
   "outputs": [],
   "source": [
    "data_txt = \"./result/Train2_model_size_2.txt\"\n",
    "\n",
    "with open(data_txt, 'r') as f:\n",
    "    lines = f.readlines()\n",
    "    data = [l.rstrip().split(',') for l in lines]\n",
    "    \n",
    "model_data = {}\n",
    "for d in data:\n",
    "    if \"Model\" in d[0]:\n",
    "        key = d[0].split(\" : \")[1]\n",
    "        model_data[key] = []\n",
    "    else:\n",
    "        d[2] = d[2].replace('[','').replace(']','').split(' ')\n",
    "        d[3] = d[3].replace('[','').replace(']','').split(' ')\n",
    "        d[4] = d[4].replace('[','').replace(']','').split(' ')\n",
    "        d[5] = d[5].replace('[','').replace(']','').split(' ')\n",
    "        model_data[key].append(d)\n",
    "        \n",
    "all_data = []\n",
    "for k in list(model_data.keys()):\n",
    "    for i in range(len(model_data[k])):\n",
    "        model_data[k][i][0] = k + \"-\" + model_data[k][i][0]\n",
    "        all_data.append(model_data[k][i])\n",
    "                \n",
    "data = all_data\n",
    "\n",
    "size_data = np.array([d[0] for d in data], dtype=str)\n",
    "time_data = np.array([d[1] for d in data], dtype=float)\n",
    "score1_data = np.array([d[2] for d in data], dtype=float)\n",
    "score2_data = np.array([d[3] for d in data], dtype=float)\n",
    "recall1_data = np.array([d[4] for d in data], dtype=float)\n",
    "recall2_data = np.array([d[5] for d in data], dtype=float)\n",
    "\n",
    "    \n",
    "## plot"
   ]
  },
  {
   "cell_type": "code",
   "execution_count": null,
   "metadata": {
    "ExecuteTime": {
     "end_time": "2020-08-01T18:06:43.501407Z",
     "start_time": "2020-08-01T18:06:39.188767Z"
    },
    "hidden": true
   },
   "outputs": [],
   "source": [
    "plot_model_recall(['300', '350', '550'])\n",
    "plot_model_recall(['650', '800', '850'])"
   ]
  },
  {
   "cell_type": "markdown",
   "metadata": {},
   "source": [
    "## Export"
   ]
  },
  {
   "cell_type": "code",
   "execution_count": null,
   "metadata": {
    "ExecuteTime": {
     "end_time": "2020-07-27T09:35:26.741721Z",
     "start_time": "2020-07-27T09:35:26.735049Z"
    }
   },
   "outputs": [],
   "source": [
    "%%javascript\n",
    "var kernel = IPython.notebook.kernel;\n",
    "var thename = window.document.getElementById(\"notebook_name\").innerHTML;\n",
    "var command = \"NOTEBOOK = \" + \"'\"+thename+\"'\";\n",
    "kernel.execute(command);"
   ]
  },
  {
   "cell_type": "code",
   "execution_count": null,
   "metadata": {
    "ExecuteTime": {
     "end_time": "2020-07-27T09:35:27.927529Z",
     "start_time": "2020-07-27T09:35:27.559181Z"
    },
    "scrolled": true
   },
   "outputs": [],
   "source": [
    "!python notebook2script.py \"$NOTEBOOK\".ipynb"
   ]
  },
  {
   "cell_type": "code",
   "execution_count": null,
   "metadata": {},
   "outputs": [],
   "source": []
  }
 ],
 "metadata": {
  "kernelspec": {
   "display_name": "Python 3",
   "language": "python",
   "name": "python3"
  },
  "language_info": {
   "codemirror_mode": {
    "name": "ipython",
    "version": 3
   },
   "file_extension": ".py",
   "mimetype": "text/x-python",
   "name": "python",
   "nbconvert_exporter": "python",
   "pygments_lexer": "ipython3",
   "version": "3.6.8"
  },
  "toc": {
   "base_numbering": 1,
   "nav_menu": {},
   "number_sections": true,
   "sideBar": true,
   "skip_h1_title": false,
   "title_cell": "Table of Contents",
   "title_sidebar": "Contents",
   "toc_cell": false,
   "toc_position": {},
   "toc_section_display": true,
   "toc_window_display": false
  },
  "varInspector": {
   "cols": {
    "lenName": 16,
    "lenType": 16,
    "lenVar": 40
   },
   "kernels_config": {
    "python": {
     "delete_cmd_postfix": "",
     "delete_cmd_prefix": "del ",
     "library": "var_list.py",
     "varRefreshCmd": "print(var_dic_list())"
    },
    "r": {
     "delete_cmd_postfix": ") ",
     "delete_cmd_prefix": "rm(",
     "library": "var_list.r",
     "varRefreshCmd": "cat(var_dic_list()) "
    }
   },
   "types_to_exclude": [
    "module",
    "function",
    "builtin_function_or_method",
    "instance",
    "_Feature"
   ],
   "window_display": false
  }
 },
 "nbformat": 4,
 "nbformat_minor": 2
}
