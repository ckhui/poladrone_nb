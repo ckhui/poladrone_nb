{
 "cells": [
  {
   "cell_type": "code",
   "execution_count": 2,
   "metadata": {
    "ExecuteTime": {
     "end_time": "2020-07-15T09:02:07.782190Z",
     "start_time": "2020-07-15T09:02:07.736447Z"
    }
   },
   "outputs": [],
   "source": [
    "%load_ext autoreload\n",
    "%autoreload 2"
   ]
  },
  {
   "cell_type": "code",
   "execution_count": 3,
   "metadata": {
    "ExecuteTime": {
     "end_time": "2020-07-15T09:02:09.573177Z",
     "start_time": "2020-07-15T09:02:07.899299Z"
    }
   },
   "outputs": [],
   "source": [
    "import os, sys\n",
    "base = \"/Users/ckh/Documents/Poladrone/nb\"\n",
    "# base = \"D:/YoloV5_Hui/poladrone_nb\"\n",
    "sys.path.append(base + \"/ref/pytorchYOLOv4\")\n",
    "\n",
    "from exp.nb_TrainingRunnner import *\n",
    "from exp.nb_LoggingModule import custom_init_logger\n",
    "from exp.nb_CustomDataLoader import Detection_dataset"
   ]
  },
  {
   "cell_type": "code",
   "execution_count": 4,
   "metadata": {
    "ExecuteTime": {
     "end_time": "2020-07-15T09:02:09.709158Z",
     "start_time": "2020-07-15T09:02:09.671395Z"
    }
   },
   "outputs": [],
   "source": [
    "from config.config import Cfg"
   ]
  },
  {
   "cell_type": "code",
   "execution_count": 5,
   "metadata": {
    "ExecuteTime": {
     "end_time": "2020-07-15T09:02:10.228588Z",
     "start_time": "2020-07-15T09:02:09.846770Z"
    }
   },
   "outputs": [
    {
     "name": "stdout",
     "output_type": "stream",
     "text": [
      "log file path:log/log_2020-07-15_17-02-10.txt\n"
     ]
    }
   ],
   "source": [
    "# data_list = \"D:/YoloV5_Hui/Dataset/train_npt.txt\"\n",
    "data_list = \"/Users/ckh/OneDrive - Default Directory/Hui_Wan/train_npt.txt\"\n",
    "\n",
    "dataset = Detection_dataset(data_list, Cfg)\n",
    "val_dataset = Detection_dataset(data_list, Cfg, val=True)\n",
    "\n",
    "logging = custom_init_logger(log_dir='log', stdout=False)"
   ]
  },
  {
   "cell_type": "code",
   "execution_count": null,
   "metadata": {},
   "outputs": [],
   "source": [
    "cfg = get_args(**Cfg)\n",
    "cfg.classes = 1 ## hardcode num_classes\n",
    "\n",
    "cfg.batch = 8\n",
    "cfg.subdivisions = 2\n",
    "cfg.TRAIN_EPOCHS = 3000\n",
    "\n",
    "# os.environ['CUDA_VISIBLE_DEVICES']='1'\n",
    "# torch.cuda.set_device(1)\n",
    "os.environ[\"CUDA_VISIBLE_DEVICES\"] = cfg.gpu\n",
    "\n",
    "device = torch.device('cuda' if torch.cuda.is_available() else 'cpu')\n",
    "logging.info(f'Using device {device}')\n",
    "\n",
    "print(\"Device:\", device)"
   ]
  },
  {
   "cell_type": "code",
   "execution_count": null,
   "metadata": {},
   "outputs": [],
   "source": [
    "model = Yolov4(cfg.pretrained,n_classes=cfg.classes)\n",
    "\n",
    "if torch.cuda.device_count() > 1:\n",
    "    model = torch.nn.DataParallel(model)\n",
    "model.to(device=device)"
   ]
  },
  {
   "cell_type": "code",
   "execution_count": 13,
   "metadata": {
    "ExecuteTime": {
     "end_time": "2020-07-13T03:53:54.611178Z",
     "start_time": "2020-07-13T03:53:54.494329Z"
    },
    "code_folding": [
     0
    ]
   },
   "outputs": [],
   "source": [
    "def get_args(**kwargs):\n",
    "    cfg = kwargs\n",
    "    parser = argparse.ArgumentParser(description='Train the Model on images and target masks',\n",
    "                                     formatter_class=argparse.ArgumentDefaultsHelpFormatter)\n",
    "    # parser.add_argument('-b', '--batch-size', metavar='B', type=int, nargs='?', default=2,\n",
    "    #                     help='Batch size', dest='batchsize')\n",
    "    parser.add_argument('-l', '--learning-rate', metavar='LR', type=float, nargs='?', default=0.001,\n",
    "                        help='Learning rate', dest='learning_rate')\n",
    "    parser.add_argument('-f', '--load', dest='load', type=str, default=None,\n",
    "                        help='Load model from a .pth file')\n",
    "    parser.add_argument('-g', '--gpu', metavar='G', type=str, default='-1',\n",
    "                        help='GPU', dest='gpu')\n",
    "    parser.add_argument('-dir', '--data-dir', type=str, default=None,\n",
    "                        help='dataset dir', dest='dataset_dir')\n",
    "    parser.add_argument('-pretrained', type=str, default=None, help='pretrained yolov4.conv.137')\n",
    "    parser.add_argument('-classes', type=int, default=80, help='dataset classes')\n",
    "    parser.add_argument('-train_label_path', dest='train_label', type=str, default='train.txt', help=\"train label path\")\n",
    "    parser.add_argument(\n",
    "        '-optimizer', type=str, default='adam',\n",
    "        help='training optimizer',\n",
    "        dest='TRAIN_OPTIMIZER')\n",
    "    parser.add_argument(\n",
    "        '-iou-type', type=str, default='iou',\n",
    "        help='iou type (iou, giou, diou, ciou)',\n",
    "        dest='iou_type')\n",
    "    parser.add_argument(\n",
    "        '-keep-checkpoint-max', type=int, default=10,\n",
    "        help='maximum number of checkpoints to keep. If set 0, all checkpoints will be kept',\n",
    "        dest='keep_checkpoint_max')\n",
    "    args = vars(parser.parse_args())\n",
    "\n",
    "    # for k in args.keys():\n",
    "    #     cfg[k] = args.get(k)\n",
    "    cfg.update(args)\n",
    "\n",
    "    return edict(cfg)"
   ]
  },
  {
   "cell_type": "code",
   "execution_count": null,
   "metadata": {},
   "outputs": [],
   "source": [
    "import random\n",
    "import torch\n",
    "torch.manual_seed(20)\n",
    "np.random.seed(20)\n",
    "random.seed(20)\n",
    "\n",
    "\n",
    "try:\n",
    "    custom_train(\n",
    "        train_dataset=dataset,\n",
    "        val_dataset=val_dataset,\n",
    "        model=model,\n",
    "        config=cfg,\n",
    "        epochs=cfg.TRAIN_EPOCHS,\n",
    "        device=device,\n",
    "        log_step=100)\n",
    "except KeyboardInterrupt:\n",
    "    torch.save(model.state_dict(), 'INTERRUPTED.pth')\n",
    "    logging.info('Saved interrupt')\n",
    "    try:\n",
    "        sys.exit(0)\n",
    "    except SystemExit:\n",
    "        os._exit(0)"
   ]
  },
  {
   "cell_type": "code",
   "execution_count": 14,
   "metadata": {
    "ExecuteTime": {
     "end_time": "2020-07-13T04:14:04.883745Z",
     "start_time": "2020-07-13T04:14:04.802661Z"
    }
   },
   "outputs": [
    {
     "name": "stdout",
     "output_type": "stream",
     "text": [
      "Main\n"
     ]
    }
   ],
   "source": [
    "if __name__ == \"__main__\":\n",
    "    print(\"Main\")"
   ]
  },
  {
   "cell_type": "code",
   "execution_count": null,
   "metadata": {},
   "outputs": [],
   "source": []
  }
 ],
 "metadata": {
  "kernelspec": {
   "display_name": "Python 3",
   "language": "python",
   "name": "python3"
  },
  "language_info": {
   "codemirror_mode": {
    "name": "ipython",
    "version": 3
   },
   "file_extension": ".py",
   "mimetype": "text/x-python",
   "name": "python",
   "nbconvert_exporter": "python",
   "pygments_lexer": "ipython3",
   "version": "3.6.8"
  },
  "toc": {
   "base_numbering": 1,
   "nav_menu": {},
   "number_sections": true,
   "sideBar": true,
   "skip_h1_title": false,
   "title_cell": "Table of Contents",
   "title_sidebar": "Contents",
   "toc_cell": false,
   "toc_position": {},
   "toc_section_display": true,
   "toc_window_display": false
  },
  "varInspector": {
   "cols": {
    "lenName": 16,
    "lenType": 16,
    "lenVar": 40
   },
   "kernels_config": {
    "python": {
     "delete_cmd_postfix": "",
     "delete_cmd_prefix": "del ",
     "library": "var_list.py",
     "varRefreshCmd": "print(var_dic_list())"
    },
    "r": {
     "delete_cmd_postfix": ") ",
     "delete_cmd_prefix": "rm(",
     "library": "var_list.r",
     "varRefreshCmd": "cat(var_dic_list()) "
    }
   },
   "types_to_exclude": [
    "module",
    "function",
    "builtin_function_or_method",
    "instance",
    "_Feature"
   ],
   "window_display": false
  }
 },
 "nbformat": 4,
 "nbformat_minor": 2
}
