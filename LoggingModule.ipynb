{
 "cells": [
  {
   "cell_type": "markdown",
   "metadata": {},
   "source": [
    "## Import and Setup"
   ]
  },
  {
   "cell_type": "code",
   "execution_count": 1,
   "metadata": {
    "ExecuteTime": {
     "end_time": "2020-07-15T08:59:47.434908Z",
     "start_time": "2020-07-15T08:59:47.427423Z"
    }
   },
   "outputs": [],
   "source": [
    "# Export\n",
    "import logging\n",
    "import os, sys"
   ]
  },
  {
   "cell_type": "code",
   "execution_count": 2,
   "metadata": {
    "ExecuteTime": {
     "end_time": "2020-07-15T08:59:47.451009Z",
     "start_time": "2020-07-15T08:59:47.440176Z"
    }
   },
   "outputs": [],
   "source": [
    "# Export\n",
    "def custom_init_logger(log_file=None, log_dir=None, log_level=logging.INFO, mode='w', stdout=True):\n",
    "    \"\"\"\n",
    "    log_dir: 日志文件的文件夹路径\n",
    "    mode: 'a', append; 'w', 覆盖原文件写入.\n",
    "    \"\"\"\n",
    "    import datetime\n",
    "    def get_date_str():\n",
    "        now = datetime.datetime.now()\n",
    "        return now.strftime('%Y-%m-%d_%H-%M-%S')\n",
    "\n",
    "    fmt = '%(asctime)s %(filename)s[line:%(lineno)d] %(levelname)s: %(message)s'\n",
    "    if log_dir is None:\n",
    "        log_dir = '~/temp/log/'\n",
    "    if log_file is None:\n",
    "        log_file = 'log_' + get_date_str() + '.txt'\n",
    "    if not os.path.exists(log_dir):\n",
    "        os.makedirs(log_dir)\n",
    "    log_file = os.path.join(log_dir, log_file)\n",
    "    # 此处不能使用logging输出\n",
    "    print('log file path:' + log_file)\n",
    "\n",
    "    # to override system encoding method\n",
    "    # might have error in Window when encoding is not 'utf-8'\n",
    "    handler = logging.FileHandler(filename=log_file, \n",
    "                        encoding='utf-8', \n",
    "                        mode=mode)\n",
    "\n",
    "    logging.basicConfig(handlers=[handler],\n",
    "                        level=logging.DEBUG,\n",
    "                        format=fmt)\n",
    "\n",
    "    if stdout:\n",
    "        console = logging.StreamHandler(stream=sys.stdout)\n",
    "        console.setLevel(log_level)\n",
    "        formatter = logging.Formatter(fmt)\n",
    "        console.setFormatter(formatter)\n",
    "        logging.getLogger('').addHandler(console)\n",
    "\n",
    "    return logging"
   ]
  },
  {
   "cell_type": "markdown",
   "metadata": {},
   "source": [
    "## Main"
   ]
  },
  {
   "cell_type": "code",
   "execution_count": 4,
   "metadata": {
    "ExecuteTime": {
     "end_time": "2020-07-15T09:01:27.679578Z",
     "start_time": "2020-07-15T09:01:27.671316Z"
    }
   },
   "outputs": [
    {
     "name": "stdout",
     "output_type": "stream",
     "text": [
      "log file path:~/temp/log/log_2020-07-15_17-01-27.txt\n"
     ]
    }
   ],
   "source": [
    "logging = custom_init_logger(stdout=False)"
   ]
  },
  {
   "cell_type": "code",
   "execution_count": 5,
   "metadata": {
    "ExecuteTime": {
     "end_time": "2020-07-15T09:01:28.790273Z",
     "start_time": "2020-07-15T09:01:28.779455Z"
    }
   },
   "outputs": [],
   "source": [
    "logging.info(f'Testing Info')"
   ]
  },
  {
   "cell_type": "markdown",
   "metadata": {
    "ExecuteTime": {
     "end_time": "2020-07-14T23:01:10.670894Z",
     "start_time": "2020-07-14T23:01:10.665567Z"
    }
   },
   "source": [
    "## Export"
   ]
  },
  {
   "cell_type": "code",
   "execution_count": 6,
   "metadata": {
    "ExecuteTime": {
     "end_time": "2020-07-15T09:01:29.853943Z",
     "start_time": "2020-07-15T09:01:29.832575Z"
    }
   },
   "outputs": [
    {
     "data": {
      "application/javascript": [
       "var kernel = IPython.notebook.kernel;\n",
       "var thename = window.document.getElementById(\"notebook_name\").innerHTML;\n",
       "var command = \"NOTEBOOK = \" + \"'\"+thename+\"'\";\n",
       "kernel.execute(command);\n"
      ],
      "text/plain": [
       "<IPython.core.display.Javascript object>"
      ]
     },
     "metadata": {},
     "output_type": "display_data"
    }
   ],
   "source": [
    "%%javascript\n",
    "var kernel = IPython.notebook.kernel;\n",
    "var thename = window.document.getElementById(\"notebook_name\").innerHTML;\n",
    "var command = \"NOTEBOOK = \" + \"'\"+thename+\"'\";\n",
    "kernel.execute(command);"
   ]
  },
  {
   "cell_type": "code",
   "execution_count": 7,
   "metadata": {
    "ExecuteTime": {
     "end_time": "2020-07-15T09:01:31.380426Z",
     "start_time": "2020-07-15T09:01:31.039130Z"
    }
   },
   "outputs": [
    {
     "name": "stdout",
     "output_type": "stream",
     "text": [
      "Converted LoggingModule.ipynb to exp/nb_LoggingModule.py\r\n"
     ]
    }
   ],
   "source": [
    "!python notebook2script.py \"$NOTEBOOK\".ipynb"
   ]
  },
  {
   "cell_type": "code",
   "execution_count": null,
   "metadata": {},
   "outputs": [],
   "source": []
  }
 ],
 "metadata": {
  "kernelspec": {
   "display_name": "Python 3",
   "language": "python",
   "name": "python3"
  },
  "language_info": {
   "codemirror_mode": {
    "name": "ipython",
    "version": 3
   },
   "file_extension": ".py",
   "mimetype": "text/x-python",
   "name": "python",
   "nbconvert_exporter": "python",
   "pygments_lexer": "ipython3",
   "version": "3.6.8"
  },
  "toc": {
   "base_numbering": 1,
   "nav_menu": {},
   "number_sections": true,
   "sideBar": true,
   "skip_h1_title": false,
   "title_cell": "Table of Contents",
   "title_sidebar": "Contents",
   "toc_cell": false,
   "toc_position": {},
   "toc_section_display": true,
   "toc_window_display": false
  },
  "varInspector": {
   "cols": {
    "lenName": 16,
    "lenType": 16,
    "lenVar": 40
   },
   "kernels_config": {
    "python": {
     "delete_cmd_postfix": "",
     "delete_cmd_prefix": "del ",
     "library": "var_list.py",
     "varRefreshCmd": "print(var_dic_list())"
    },
    "r": {
     "delete_cmd_postfix": ") ",
     "delete_cmd_prefix": "rm(",
     "library": "var_list.r",
     "varRefreshCmd": "cat(var_dic_list()) "
    }
   },
   "types_to_exclude": [
    "module",
    "function",
    "builtin_function_or_method",
    "instance",
    "_Feature"
   ],
   "window_display": false
  }
 },
 "nbformat": 4,
 "nbformat_minor": 2
}
